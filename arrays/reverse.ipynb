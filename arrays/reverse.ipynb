{
 "cells": [
  {
   "cell_type": "code",
   "execution_count": 21,
   "metadata": {},
   "outputs": [],
   "source": [
    "def reverse(str):\n",
    "    list1 = list(str)\n",
    "    beg = 0\n",
    "    end = len(str)-1\n",
    "    print(beg)\n",
    "    print(end)\n",
    "    while beg < end:\n",
    "        list1[beg] = str[end]\n",
    "        list1[end] = str[beg]\n",
    "        beg+=1\n",
    "        end-=1\n",
    "    return ''.join(list1)"
   ]
  },
  {
   "cell_type": "code",
   "execution_count": 22,
   "metadata": {},
   "outputs": [
    {
     "name": "stdout",
     "output_type": "stream",
     "text": [
      "0\n",
      "15\n",
      "Reversed string is : rakras yed ahgem\n"
     ]
    }
   ],
   "source": [
    "if __name__ == \"__main__\":\n",
    "    str = input()\n",
    "    print(\"Reversed string is :\",reverse(str))"
   ]
  },
  {
   "cell_type": "code",
   "execution_count": null,
   "metadata": {},
   "outputs": [],
   "source": []
  }
 ],
 "metadata": {
  "kernelspec": {
   "display_name": "Python 3",
   "language": "python",
   "name": "python3"
  },
  "language_info": {
   "codemirror_mode": {
    "name": "ipython",
    "version": 3
   },
   "file_extension": ".py",
   "mimetype": "text/x-python",
   "name": "python",
   "nbconvert_exporter": "python",
   "pygments_lexer": "ipython3",
   "version": "3.11.4"
  },
  "orig_nbformat": 4
 },
 "nbformat": 4,
 "nbformat_minor": 2
}
